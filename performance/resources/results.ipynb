{
 "cells": [
  {
   "cell_type": "markdown",
   "metadata": {},
   "source": [
    "# Configuration"
   ]
  },
  {
   "cell_type": "code",
   "execution_count": 1,
   "metadata": {
    "collapsed": false
   },
   "outputs": [],
   "source": [
    "import pylab as plt\n",
    "import numpy as np\n",
    "import statsmodels.api as sm\n",
    "import matplotlib.ticker\n",
    "%matplotlib inline"
   ]
  },
  {
   "cell_type": "code",
   "execution_count": 2,
   "metadata": {
    "collapsed": false
   },
   "outputs": [],
   "source": [
    "from io import StringIO\n",
    "import requests\n",
    "import json\n",
    "import pandas as pd\n",
    "\n",
    "# @hidden_cell\n",
    "# This function accesses a file in your Object Storage. The definition contains your credentials.\n",
    "# You might want to remove those credentials before you share your notebook.\n",
    "def get_object_storage_file_with_credentials_ebfa6a6ade0a434ea529a6a0727780ac(container, filename):\n",
    "    \"\"\"This functions returns a StringIO object containing\n",
    "    the file content from Bluemix Object Storage.\"\"\"\n",
    "\n",
    "    url1 = ''.join(['https://identity.open.softlayer.com', '/v3/auth/tokens'])\n",
    "    data = {'auth': {'identity': {'methods': ['password'],\n",
    "            'password': {'user': {'name': '*****','domain': {'id': '*****'},\n",
    "            'password': '*****'}}}}}\n",
    "    headers1 = {'Content-Type': 'application/json'}\n",
    "    resp1 = requests.post(url=url1, data=json.dumps(data), headers=headers1)\n",
    "    resp1_body = resp1.json()\n",
    "    for e1 in resp1_body['token']['catalog']:\n",
    "        if(e1['type']=='object-store'):\n",
    "            for e2 in e1['endpoints']:\n",
    "                        if(e2['interface']=='public'and e2['region']=='dallas'):\n",
    "                            url2 = ''.join([e2['url'],'/', container, '/', filename])\n",
    "    s_subject_token = resp1.headers['x-subject-token']\n",
    "    headers2 = {'X-Auth-Token': s_subject_token, 'accept': 'application/json'}\n",
    "    resp2 = requests.get(url=url2, headers=headers2)\n",
    "    return StringIO(resp2.text)"
   ]
  },
  {
   "cell_type": "markdown",
   "metadata": {},
   "source": [
    "# Results - Batch Size"
   ]
  },
  {
   "cell_type": "code",
   "execution_count": 3,
   "metadata": {
    "collapsed": false
   },
   "outputs": [
    {
     "data": {
      "text/html": [
       "<div>\n",
       "<table border=\"1\" class=\"dataframe\">\n",
       "  <thead>\n",
       "    <tr style=\"text-align: right;\">\n",
       "      <th></th>\n",
       "      <th>Source</th>\n",
       "      <th>Sink</th>\n",
       "      <th>End2End</th>\n",
       "    </tr>\n",
       "  </thead>\n",
       "  <tbody>\n",
       "    <tr>\n",
       "      <th>0</th>\n",
       "      <td>3034</td>\n",
       "      <td>1426</td>\n",
       "      <td>1204</td>\n",
       "    </tr>\n",
       "    <tr>\n",
       "      <th>1</th>\n",
       "      <td>4518</td>\n",
       "      <td>2283</td>\n",
       "      <td>2040</td>\n",
       "    </tr>\n",
       "    <tr>\n",
       "      <th>2</th>\n",
       "      <td>4762</td>\n",
       "      <td>2625</td>\n",
       "      <td>2221</td>\n",
       "    </tr>\n",
       "    <tr>\n",
       "      <th>3</th>\n",
       "      <td>5025</td>\n",
       "      <td>3306</td>\n",
       "      <td>2776</td>\n",
       "    </tr>\n",
       "    <tr>\n",
       "      <th>4</th>\n",
       "      <td>5343</td>\n",
       "      <td>3439</td>\n",
       "      <td>3124</td>\n",
       "    </tr>\n",
       "    <tr>\n",
       "      <th>5</th>\n",
       "      <td>5664</td>\n",
       "      <td>4768</td>\n",
       "      <td>4160</td>\n",
       "    </tr>\n",
       "    <tr>\n",
       "      <th>6</th>\n",
       "      <td>5731</td>\n",
       "      <td>5382</td>\n",
       "      <td>3571</td>\n",
       "    </tr>\n",
       "    <tr>\n",
       "      <th>7</th>\n",
       "      <td>5760</td>\n",
       "      <td>5335</td>\n",
       "      <td>3845</td>\n",
       "    </tr>\n",
       "    <tr>\n",
       "      <th>8</th>\n",
       "      <td>5943</td>\n",
       "      <td>5260</td>\n",
       "      <td>3124</td>\n",
       "    </tr>\n",
       "    <tr>\n",
       "      <th>9</th>\n",
       "      <td>5957</td>\n",
       "      <td>4631</td>\n",
       "      <td>3125</td>\n",
       "    </tr>\n",
       "    <tr>\n",
       "      <th>10</th>\n",
       "      <td>5624</td>\n",
       "      <td>4435</td>\n",
       "      <td>3433</td>\n",
       "    </tr>\n",
       "    <tr>\n",
       "      <th>11</th>\n",
       "      <td>5574</td>\n",
       "      <td>3490</td>\n",
       "      <td>3124</td>\n",
       "    </tr>\n",
       "    <tr>\n",
       "      <th>12</th>\n",
       "      <td>5504</td>\n",
       "      <td>2979</td>\n",
       "      <td>2940</td>\n",
       "    </tr>\n",
       "    <tr>\n",
       "      <th>13</th>\n",
       "      <td>5615</td>\n",
       "      <td>3066</td>\n",
       "      <td>2703</td>\n",
       "    </tr>\n",
       "    <tr>\n",
       "      <th>14</th>\n",
       "      <td>5231</td>\n",
       "      <td>2954</td>\n",
       "      <td>2688</td>\n",
       "    </tr>\n",
       "    <tr>\n",
       "      <th>15</th>\n",
       "      <td>5436</td>\n",
       "      <td>2979</td>\n",
       "      <td>1998</td>\n",
       "    </tr>\n",
       "    <tr>\n",
       "      <th>16</th>\n",
       "      <td>5561</td>\n",
       "      <td>2490</td>\n",
       "      <td>1817</td>\n",
       "    </tr>\n",
       "  </tbody>\n",
       "</table>\n",
       "</div>"
      ],
      "text/plain": [
       "    Source  Sink  End2End\n",
       "0     3034  1426     1204\n",
       "1     4518  2283     2040\n",
       "2     4762  2625     2221\n",
       "3     5025  3306     2776\n",
       "4     5343  3439     3124\n",
       "5     5664  4768     4160\n",
       "6     5731  5382     3571\n",
       "7     5760  5335     3845\n",
       "8     5943  5260     3124\n",
       "9     5957  4631     3125\n",
       "10    5624  4435     3433\n",
       "11    5574  3490     3124\n",
       "12    5504  2979     2940\n",
       "13    5615  3066     2703\n",
       "14    5231  2954     2688\n",
       "15    5436  2979     1998\n",
       "16    5561  2490     1817"
      ]
     },
     "execution_count": 3,
     "metadata": {},
     "output_type": "execute_result"
    }
   ],
   "source": [
    "df_batch = pd.read_csv(get_object_storage_file_with_credentials_ebfa6a6ade0a434ea529a6a0727780ac('PerformanceTest', 'batch.csv'))\n",
    "df_batch.set_index(\"Batch.Size\")\n",
    "df_batch.ix[:,1:]"
   ]
  },
  {
   "cell_type": "code",
   "execution_count": 4,
   "metadata": {
    "collapsed": false,
    "scrolled": true
   },
   "outputs": [
    {
     "data": {
      "image/png": "[encoded data removed]",
      "text/plain": [
       "<matplotlib.figure.Figure at 0x7f8252cb01d0>"
      ]
     },
     "metadata": {},
     "output_type": "display_data"
    }
   ],
   "source": [
    "#Plots\n",
    "plt.plot(df_batch.get(\"Batch.Size\"), df_batch.get(\"Source\"), color='blue', lw=2)\n",
    "plt.plot(df_batch.get(\"Batch.Size\"), df_batch.get(\"Sink\"), color='green', lw=2)\n",
    "plt.plot(df_batch.get(\"Batch.Size\"), df_batch.get(\"End2End\"), color='red', lw=2)\n",
    "\n",
    "#Settings\n",
    "plt.title(\"Batch size\", fontsize=16)\n",
    "plt.xlabel(\"Batch size\", fontsize=12)\n",
    "plt.ylabel(\"Documents per second\", fontsize=12)\n",
    "plt.xlim(1000,100000)\n",
    "plt.ylim(0,7000)\n",
    "plt.legend(loc=8)\n",
    "plt.grid(True)\n",
    "\n",
    "#ScatterPlots\n",
    "plt.scatter(df_batch.get(\"Batch.Size\"), df_batch.get(\"Source\"), color='blue', lw=3)\n",
    "plt.scatter(df_batch.get(\"Batch.Size\"), df_batch.get(\"Sink\"), color='green', lw=3)\n",
    "plt.scatter(df_batch.get(\"Batch.Size\"), df_batch.get(\"End2End\"), color='red', lw=3)\n",
    "plt.show()"
   ]
  },
  {
   "cell_type": "markdown",
   "metadata": {
    "collapsed": true
   },
   "source": [
    "# Results - Replication"
   ]
  },
  {
   "cell_type": "code",
   "execution_count": 5,
   "metadata": {
    "collapsed": false
   },
   "outputs": [
    {
     "data": {
      "text/html": [
       "<div>\n",
       "<table border=\"1\" class=\"dataframe\">\n",
       "  <thead>\n",
       "    <tr style=\"text-align: right;\">\n",
       "      <th></th>\n",
       "      <th>True</th>\n",
       "      <th>False</th>\n",
       "    </tr>\n",
       "  </thead>\n",
       "  <tbody>\n",
       "    <tr>\n",
       "      <th>0</th>\n",
       "      <td>5190</td>\n",
       "      <td>4768</td>\n",
       "    </tr>\n",
       "    <tr>\n",
       "      <th>1</th>\n",
       "      <td>4153</td>\n",
       "      <td>3703</td>\n",
       "    </tr>\n",
       "  </tbody>\n",
       "</table>\n",
       "</div>"
      ],
      "text/plain": [
       "   True  False\n",
       "0  5190   4768\n",
       "1  4153   3703"
      ]
     },
     "execution_count": 5,
     "metadata": {},
     "output_type": "execute_result"
    }
   ],
   "source": [
    "df_replication = pd.read_csv(get_object_storage_file_with_credentials_ebfa6a6ade0a434ea529a6a0727780ac('PerformanceTest', 'replication.csv'))\n",
    "df_replication.set_index(\"Replication\")\n",
    "df_replication.ix[:,1:]"
   ]
  },
  {
   "cell_type": "code",
   "execution_count": 6,
   "metadata": {
    "collapsed": false
   },
   "outputs": [
    {
     "data": {
      "text/plain": [
       "([<matplotlib.axis.XTick at 0x7f8252c76390>,\n",
       "  <matplotlib.axis.XTick at 0x7f825095a0f0>],\n",
       " <a list of 2 Text xticklabel objects>)"
      ]
     },
     "execution_count": 6,
     "metadata": {},
     "output_type": "execute_result"
    },
    {
     "data": {
      "image/png": "[encoded data removed]",
      "text/plain": [
       "<matplotlib.figure.Figure at 0x7f8250980f60>"
      ]
     },
     "metadata": {},
     "output_type": "display_data"
    }
   ],
   "source": [
    "replication = df_replication.ix[:,1:].plot(kind='bar', legend=True, grid=True)\n",
    "replication.set_title(\"Replication\",fontsize=16)\n",
    "replication.set_xlabel(\"Test type\",fontsize=12)\n",
    "replication.set_ylabel(\"Documents per second\",fontsize=12)\n",
    "#replication.legend(loc=4)\n",
    "\n",
    "#xlabel\n",
    "xlabel = ['Sink', 'End2End']\n",
    "plt.xticks(range(len(xlabel)), xlabel, rotation='horizontal')"
   ]
  },
  {
   "cell_type": "markdown",
   "metadata": {
    "collapsed": true
   },
   "source": [
    "# Results - Topics"
   ]
  },
  {
   "cell_type": "code",
   "execution_count": 7,
   "metadata": {
    "collapsed": false
   },
   "outputs": [
    {
     "data": {
      "text/html": [
       "<div>\n",
       "<table border=\"1\" class=\"dataframe\">\n",
       "  <thead>\n",
       "    <tr style=\"text-align: right;\">\n",
       "      <th></th>\n",
       "      <th>Source</th>\n",
       "      <th>Sink</th>\n",
       "      <th>End2End</th>\n",
       "    </tr>\n",
       "  </thead>\n",
       "  <tbody>\n",
       "    <tr>\n",
       "      <th>0</th>\n",
       "      <td>4135</td>\n",
       "      <td>4768</td>\n",
       "      <td>3703</td>\n",
       "    </tr>\n",
       "    <tr>\n",
       "      <th>1</th>\n",
       "      <td>4036</td>\n",
       "      <td>4121</td>\n",
       "      <td>3278</td>\n",
       "    </tr>\n",
       "    <tr>\n",
       "      <th>2</th>\n",
       "      <td>4082</td>\n",
       "      <td>4571</td>\n",
       "      <td>3529</td>\n",
       "    </tr>\n",
       "    <tr>\n",
       "      <th>3</th>\n",
       "      <td>4128</td>\n",
       "      <td>4365</td>\n",
       "      <td>3305</td>\n",
       "    </tr>\n",
       "    <tr>\n",
       "      <th>4</th>\n",
       "      <td>4137</td>\n",
       "      <td>4787</td>\n",
       "      <td>3289</td>\n",
       "    </tr>\n",
       "    <tr>\n",
       "      <th>5</th>\n",
       "      <td>3442</td>\n",
       "      <td>4475</td>\n",
       "      <td>3045</td>\n",
       "    </tr>\n",
       "  </tbody>\n",
       "</table>\n",
       "</div>"
      ],
      "text/plain": [
       "   Source  Sink  End2End\n",
       "0    4135  4768     3703\n",
       "1    4036  4121     3278\n",
       "2    4082  4571     3529\n",
       "3    4128  4365     3305\n",
       "4    4137  4787     3289\n",
       "5    3442  4475     3045"
      ]
     },
     "execution_count": 7,
     "metadata": {},
     "output_type": "execute_result"
    }
   ],
   "source": [
    "df_topics = pd.read_csv(get_object_storage_file_with_credentials_ebfa6a6ade0a434ea529a6a0727780ac('PerformanceTest', 'topics.csv'))\n",
    "df_topics.set_index(\"Topics\")\n",
    "df_topics.ix[:,1:]"
   ]
  },
  {
   "cell_type": "code",
   "execution_count": 8,
   "metadata": {
    "collapsed": false
   },
   "outputs": [
    {
     "data": {
      "image/png": "[encoded data removed]",
      "text/plain": [
       "<matplotlib.figure.Figure at 0x7f8250961e10>"
      ]
     },
     "metadata": {},
     "output_type": "display_data"
    }
   ],
   "source": [
    "#Plots\n",
    "plt.plot(df_topics.get(\"Topics\"), df_topics.get(\"Source\"), color='blue', lw=2)\n",
    "plt.plot(df_topics.get(\"Topics\"), df_topics.get(\"Sink\"), color='green', lw=2)\n",
    "plt.plot(df_topics.get(\"Topics\"), df_topics.get(\"End2End\"), color='red', lw=2)\n",
    "\n",
    "#Settings\n",
    "plt.title(\"Topics\", fontsize=16)\n",
    "plt.xlabel(\"Number of topics\", fontsize=12)\n",
    "plt.ylabel(\"Documents per second\", fontsize=12)\n",
    "plt.xlim(1,6)\n",
    "plt.ylim(0,6000)\n",
    "plt.legend(loc=4)\n",
    "plt.grid(True)\n",
    "\n",
    "#ScatterPlots\n",
    "plt.scatter(df_topics.get(\"Topics\"), df_topics.get(\"Source\"), color='blue', lw=3)\n",
    "plt.scatter(df_topics.get(\"Topics\"), df_topics.get(\"Sink\"), color='green', lw=3)\n",
    "plt.scatter(df_topics.get(\"Topics\"), df_topics.get(\"End2End\"), color='red', lw=3)\n",
    "plt.show()"
   ]
  },
  {
   "cell_type": "markdown",
   "metadata": {},
   "source": [
    "# Results - Documents"
   ]
  },
  {
   "cell_type": "code",
   "execution_count": 9,
   "metadata": {
    "collapsed": false,
    "scrolled": true
   },
   "outputs": [
    {
     "data": {
      "text/html": [
       "<div>\n",
       "<table border=\"1\" class=\"dataframe\">\n",
       "  <thead>\n",
       "    <tr style=\"text-align: right;\">\n",
       "      <th></th>\n",
       "      <th>Source</th>\n",
       "      <th>Sink</th>\n",
       "      <th>End2End</th>\n",
       "    </tr>\n",
       "  </thead>\n",
       "  <tbody>\n",
       "    <tr>\n",
       "      <th>0</th>\n",
       "      <td>2</td>\n",
       "      <td>3</td>\n",
       "      <td>1</td>\n",
       "    </tr>\n",
       "    <tr>\n",
       "      <th>1</th>\n",
       "      <td>21</td>\n",
       "      <td>29</td>\n",
       "      <td>2</td>\n",
       "    </tr>\n",
       "    <tr>\n",
       "      <th>2</th>\n",
       "      <td>178</td>\n",
       "      <td>209</td>\n",
       "      <td>25</td>\n",
       "    </tr>\n",
       "    <tr>\n",
       "      <th>3</th>\n",
       "      <td>1161</td>\n",
       "      <td>1219</td>\n",
       "      <td>250</td>\n",
       "    </tr>\n",
       "    <tr>\n",
       "      <th>4</th>\n",
       "      <td>2727</td>\n",
       "      <td>2330</td>\n",
       "      <td>1427</td>\n",
       "    </tr>\n",
       "    <tr>\n",
       "      <th>5</th>\n",
       "      <td>3431</td>\n",
       "      <td>3694</td>\n",
       "      <td>3028</td>\n",
       "    </tr>\n",
       "    <tr>\n",
       "      <th>6</th>\n",
       "      <td>2952</td>\n",
       "      <td>3581</td>\n",
       "      <td>3544</td>\n",
       "    </tr>\n",
       "  </tbody>\n",
       "</table>\n",
       "</div>"
      ],
      "text/plain": [
       "   Source  Sink  End2End\n",
       "0       2     3        1\n",
       "1      21    29        2\n",
       "2     178   209       25\n",
       "3    1161  1219      250\n",
       "4    2727  2330     1427\n",
       "5    3431  3694     3028\n",
       "6    2952  3581     3544"
      ]
     },
     "execution_count": 9,
     "metadata": {},
     "output_type": "execute_result"
    }
   ],
   "source": [
    "df_documents = pd.read_csv(get_object_storage_file_with_credentials_ebfa6a6ade0a434ea529a6a0727780ac('PerformanceTest', 'documents.csv'))\n",
    "df_documents.set_index(\"Documents\")\n",
    "df_documents.ix[:,1:]"
   ]
  },
  {
   "cell_type": "code",
   "execution_count": 12,
   "metadata": {
    "collapsed": false
   },
   "outputs": [
    {
     "data": {
      "image/png": "[encoded data removed]",
      "text/plain": [
       "<matplotlib.figure.Figure at 0x7f824d615208>"
      ]
     },
     "metadata": {},
     "output_type": "display_data"
    }
   ],
   "source": [
    "#Plots\n",
    "plt.plot(df_documents.get(\"Documents\"), df_documents.get(\"Source\"), color='blue', lw=2)\n",
    "plt.plot(df_documents.get(\"Documents\"), df_documents.get(\"Sink\"), color='green', lw=2)\n",
    "plt.plot(df_documents.get(\"Documents\"), df_documents.get(\"End2End\"), color='red', lw=2)\n",
    "\n",
    "#Settings\n",
    "plt.title(\"Documents\", fontsize=16)\n",
    "plt.xlabel(\"Number of documents\", fontsize=12)\n",
    "plt.ylabel(\"Documents per second\", fontsize=12)\n",
    "plt.ylim(0,4000)\n",
    "plt.legend(loc=2)\n",
    "plt.xscale(\"log\")\n",
    "plt.xlim(0,1000000)\n",
    "plt.grid(True)\n",
    "\n",
    "#xlabel\n",
    "#xlabel = [1, 10, 100, 1000, 10000, 100000, 1000000]\n",
    "#plt.xticks(range(len(xlabel)), xlabel, rotation='horizontal')\n",
    "\n",
    "#ScatterPlots\n",
    "plt.scatter(df_documents.get(\"Documents\"), df_documents.get(\"Source\"), color='blue', lw=3)\n",
    "plt.scatter(df_documents.get(\"Documents\"), df_documents.get(\"Sink\"), color='green', lw=3)\n",
    "plt.scatter(df_documents.get(\"Documents\"), df_documents.get(\"End2End\"), color='red', lw=3)\n",
    "plt.show()"
   ]
  }
 ],
 "metadata": {
  "kernelspec": {
   "display_name": "Python 3.5 (Experimental) with Spark 2.0",
   "language": "python",
   "name": "python3-spark20"
  },
  "language_info": {
   "codemirror_mode": {
    "name": "ipython",
    "version": 3
   },
   "file_extension": ".py",
   "mimetype": "text/x-python",
   "name": "python",
   "nbconvert_exporter": "python",
   "pygments_lexer": "ipython3",
   "version": "3.5.2"
  }
 },
 "nbformat": 4,
 "nbformat_minor": 0
}