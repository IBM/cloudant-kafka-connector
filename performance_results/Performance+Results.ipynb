{
 "cells": [
  {
   "cell_type": "markdown",
   "metadata": {},
   "source": [
    "# Results - Batch Size"
   ]
  },
  {
   "cell_type": "code",
   "execution_count": 47,
   "metadata": {
    "collapsed": false
   },
   "outputs": [],
   "source": [
    "import pylab as plt\n",
    "import numpy as np\n",
    "import statsmodels.api as sm\n",
    "import matplotlib.ticker\n",
    "%matplotlib inline"
   ]
  },
  {
   "cell_type": "code",
   "execution_count": 21,
   "metadata": {
    "collapsed": false
   },
   "outputs": [
    {
     "data": {
      "text/html": [
       "<div>\n",
       "<table border=\"1\" class=\"dataframe\">\n",
       "  <thead>\n",
       "    <tr style=\"text-align: right;\">\n",
       "      <th></th>\n",
       "      <th>Source</th>\n",
       "      <th>Sink</th>\n",
       "      <th>End2End</th>\n",
       "    </tr>\n",
       "  </thead>\n",
       "  <tbody>\n",
       "    <tr>\n",
       "      <th>0</th>\n",
       "      <td>0</td>\n",
       "      <td>0</td>\n",
       "      <td>0</td>\n",
       "    </tr>\n",
       "    <tr>\n",
       "      <th>1</th>\n",
       "      <td>0</td>\n",
       "      <td>0</td>\n",
       "      <td>0</td>\n",
       "    </tr>\n",
       "    <tr>\n",
       "      <th>2</th>\n",
       "      <td>0</td>\n",
       "      <td>0</td>\n",
       "      <td>0</td>\n",
       "    </tr>\n",
       "    <tr>\n",
       "      <th>3</th>\n",
       "      <td>0</td>\n",
       "      <td>0</td>\n",
       "      <td>0</td>\n",
       "    </tr>\n",
       "    <tr>\n",
       "      <th>4</th>\n",
       "      <td>0</td>\n",
       "      <td>0</td>\n",
       "      <td>0</td>\n",
       "    </tr>\n",
       "    <tr>\n",
       "      <th>5</th>\n",
       "      <td>2843</td>\n",
       "      <td>4768</td>\n",
       "      <td>2746</td>\n",
       "    </tr>\n",
       "    <tr>\n",
       "      <th>6</th>\n",
       "      <td>0</td>\n",
       "      <td>0</td>\n",
       "      <td>0</td>\n",
       "    </tr>\n",
       "    <tr>\n",
       "      <th>7</th>\n",
       "      <td>0</td>\n",
       "      <td>0</td>\n",
       "      <td>0</td>\n",
       "    </tr>\n",
       "  </tbody>\n",
       "</table>\n",
       "</div>"
      ],
      "text/plain": [
       "   Source  Sink  End2End\n",
       "0       0     0        0\n",
       "1       0     0        0\n",
       "2       0     0        0\n",
       "3       0     0        0\n",
       "4       0     0        0\n",
       "5    2843  4768     2746\n",
       "6       0     0        0\n",
       "7       0     0        0"
      ]
     },
     "execution_count": 21,
     "metadata": {},
     "output_type": "execute_result"
    }
   ],
   "source": [
    "from io import StringIO\n",
    "import requests\n",
    "import json\n",
    "import pandas as pd\n",
    "\n",
    "# @hidden_cell\n",
    "# This function accesses a file in your Object Storage. The definition contains your credentials.\n",
    "# You might want to remove those credentials before you share your notebook.\n",
    "def get_object_storage_file_with_credentials_ebfa6a6ade0a434ea529a6a0727780ac(container, filename):\n",
    "    \"\"\"This functions returns a StringIO object containing\n",
    "    the file content from Bluemix Object Storage.\"\"\"\n",
    "\n",
    "    url1 = ''.join(['https://identity.open.softlayer.com', '/v3/auth/tokens'])\n",
    "    data = {'auth': {'identity': {'methods': ['password'],\n",
    "            'password': {'user': {'name': 'member_a137d71b005ed4d49072796ff1024bfed73625c7','domain': {'id': '2df6373c549e49f8973fb6d22ab18c1a'},\n",
    "            'password': 'dQDnU5eAQL&j_0R.'}}}}}\n",
    "    headers1 = {'Content-Type': 'application/json'}\n",
    "    resp1 = requests.post(url=url1, data=json.dumps(data), headers=headers1)\n",
    "    resp1_body = resp1.json()\n",
    "    for e1 in resp1_body['token']['catalog']:\n",
    "        if(e1['type']=='object-store'):\n",
    "            for e2 in e1['endpoints']:\n",
    "                        if(e2['interface']=='public'and e2['region']=='dallas'):\n",
    "                            url2 = ''.join([e2['url'],'/', container, '/', filename])\n",
    "    s_subject_token = resp1.headers['x-subject-token']\n",
    "    headers2 = {'X-Auth-Token': s_subject_token, 'accept': 'application/json'}\n",
    "    resp2 = requests.get(url=url2, headers=headers2)\n",
    "    return StringIO(resp2.text)\n",
    "\n",
    "df_batch = pd.read_csv(get_object_storage_file_with_credentials_ebfa6a6ade0a434ea529a6a0727780ac('PerformanceTest', 'batch.csv'))\n",
    "df_batch.set_index(\"Batch.Size\")\n",
    "df_batch.ix[:,1:]\n"
   ]
  },
  {
   "cell_type": "code",
   "execution_count": 22,
   "metadata": {
    "collapsed": false
   },
   "outputs": [
    {
     "data": {
      "text/plain": [
       "([<matplotlib.axis.XTick at 0x7f0221c4b320>,\n",
       "  <matplotlib.axis.XTick at 0x7f0221c67d30>,\n",
       "  <matplotlib.axis.XTick at 0x7f0221c63320>,\n",
       "  <matplotlib.axis.XTick at 0x7f0221c55b38>,\n",
       "  <matplotlib.axis.XTick at 0x7f0221cb1278>,\n",
       "  <matplotlib.axis.XTick at 0x7f0221eebf60>,\n",
       "  <matplotlib.axis.XTick at 0x7f0221c14630>,\n",
       "  <matplotlib.axis.XTick at 0x7f0221c472e8>],\n",
       " <a list of 8 Text xticklabel objects>)"
      ]
     },
     "execution_count": 22,
     "metadata": {},
     "output_type": "execute_result"
    },
    {
     "data": {
      "image/png": "[encoded data removed]",
      "text/plain": [
       "<matplotlib.figure.Figure at 0x7f0221c47cc0>"
      ]
     },
     "metadata": {},
     "output_type": "display_data"
    }
   ],
   "source": [
    "batch = df_batch.ix[:,1:].plot(x=df_batch.get(\"Batch.Size\"), lw=3, y=None, kind='line', ax=None, subplots=False, sharex=None, sharey=False, layout=None, figsize=None, use_index=True, grid=True, legend=True, style=None, loglog=False, xticks=None, yticks=None, xlim=None, ylim=None, rot=None, fontsize=None, colormap=None, table=False, yerr=None, xerr=None, secondary_y=False, sort_columns=False)\n",
    "batch.set_title(\"Batch size\", fontsize=16)\n",
    "batch.set_xlabel(\"Batch size\", fontsize=12)\n",
    "batch.set_ylabel(\"Documents per second\", fontsize=12)\n",
    "\n",
    "#xlabel\n",
    "#batch.set_xlim([1000,10000])\n",
    "plt.xticks(range(len(df_batch.get(\"Batch.Size\"))), df_batch.get(\"Batch.Size\"), rotation='vertical')"
   ]
  },
  {
   "cell_type": "markdown",
   "metadata": {
    "collapsed": true
   },
   "source": [
    "# Results - Replication"
   ]
  },
  {
   "cell_type": "code",
   "execution_count": 23,
   "metadata": {
    "collapsed": false
   },
   "outputs": [
    {
     "data": {
      "text/html": [
       "<div>\n",
       "<table border=\"1\" class=\"dataframe\">\n",
       "  <thead>\n",
       "    <tr style=\"text-align: right;\">\n",
       "      <th></th>\n",
       "      <th>True</th>\n",
       "      <th>False</th>\n",
       "    </tr>\n",
       "  </thead>\n",
       "  <tbody>\n",
       "    <tr>\n",
       "      <th>0</th>\n",
       "      <td>5190</td>\n",
       "      <td>4768</td>\n",
       "    </tr>\n",
       "    <tr>\n",
       "      <th>1</th>\n",
       "      <td>2761</td>\n",
       "      <td>2746</td>\n",
       "    </tr>\n",
       "  </tbody>\n",
       "</table>\n",
       "</div>"
      ],
      "text/plain": [
       "   True  False\n",
       "0  5190   4768\n",
       "1  2761   2746"
      ]
     },
     "execution_count": 23,
     "metadata": {},
     "output_type": "execute_result"
    }
   ],
   "source": [
    "df_replication = pd.read_csv(get_object_storage_file_with_credentials_ebfa6a6ade0a434ea529a6a0727780ac('PerformanceTest', 'replication.csv'))\n",
    "df_replication.set_index(\"Replication\")\n",
    "df_replication.ix[:,1:]"
   ]
  },
  {
   "cell_type": "code",
   "execution_count": 24,
   "metadata": {
    "collapsed": false
   },
   "outputs": [
    {
     "data": {
      "text/plain": [
       "([<matplotlib.axis.XTick at 0x7f02220010f0>,\n",
       "  <matplotlib.axis.XTick at 0x7f0222001fd0>],\n",
       " <a list of 2 Text xticklabel objects>)"
      ]
     },
     "execution_count": 24,
     "metadata": {},
     "output_type": "execute_result"
    },
    {
     "data": {
      "image/png": "[encoded data removed]",
      "text/plain": [
       "<matplotlib.figure.Figure at 0x7f0222013a20>"
      ]
     },
     "metadata": {},
     "output_type": "display_data"
    }
   ],
   "source": [
    "replication = df_replication.ix[:,1:].plot(kind='bar', legend=True, grid=True)\n",
    "replication.set_title(\"Replication\",fontsize=16)\n",
    "replication.set_xlabel(\"Test type\",fontsize=12)\n",
    "replication.set_ylabel(\"Documents per second\",fontsize=12)\n",
    "#replication.legend(loc=4)\n",
    "\n",
    "#xlabel\n",
    "xlabel = ['Sink', 'End2End']\n",
    "plt.xticks(range(len(xlabel)), xlabel, rotation='horizontal')"
   ]
  },
  {
   "cell_type": "markdown",
   "metadata": {
    "collapsed": true
   },
   "source": [
    "# Results - Topics"
   ]
  },
  {
   "cell_type": "code",
   "execution_count": 50,
   "metadata": {
    "collapsed": false
   },
   "outputs": [
    {
     "data": {
      "text/html": [
       "<div>\n",
       "<table border=\"1\" class=\"dataframe\">\n",
       "  <thead>\n",
       "    <tr style=\"text-align: right;\">\n",
       "      <th></th>\n",
       "      <th>Source</th>\n",
       "      <th>Sink</th>\n",
       "      <th>End2End</th>\n",
       "    </tr>\n",
       "  </thead>\n",
       "  <tbody>\n",
       "    <tr>\n",
       "      <th>0</th>\n",
       "      <td>2843</td>\n",
       "      <td>4768</td>\n",
       "      <td>2746</td>\n",
       "    </tr>\n",
       "    <tr>\n",
       "      <th>1</th>\n",
       "      <td>2635</td>\n",
       "      <td>4121</td>\n",
       "      <td>2754</td>\n",
       "    </tr>\n",
       "    <tr>\n",
       "      <th>2</th>\n",
       "      <td>3013</td>\n",
       "      <td>4571</td>\n",
       "      <td>2409</td>\n",
       "    </tr>\n",
       "    <tr>\n",
       "      <th>3</th>\n",
       "      <td>2511</td>\n",
       "      <td>5528</td>\n",
       "      <td>3575</td>\n",
       "    </tr>\n",
       "    <tr>\n",
       "      <th>4</th>\n",
       "      <td>2742</td>\n",
       "      <td>4787</td>\n",
       "      <td>2508</td>\n",
       "    </tr>\n",
       "    <tr>\n",
       "      <th>5</th>\n",
       "      <td>2496</td>\n",
       "      <td>4475</td>\n",
       "      <td>2488</td>\n",
       "    </tr>\n",
       "  </tbody>\n",
       "</table>\n",
       "</div>"
      ],
      "text/plain": [
       "   Source  Sink  End2End\n",
       "0    2843  4768     2746\n",
       "1    2635  4121     2754\n",
       "2    3013  4571     2409\n",
       "3    2511  5528     3575\n",
       "4    2742  4787     2508\n",
       "5    2496  4475     2488"
      ]
     },
     "execution_count": 50,
     "metadata": {},
     "output_type": "execute_result"
    }
   ],
   "source": [
    "df_topics = pd.read_csv(get_object_storage_file_with_credentials_ebfa6a6ade0a434ea529a6a0727780ac('PerformanceTest', 'topics.csv'))\n",
    "df_topics.set_index(\"Topics\")\n",
    "df_topics.ix[:,1:]"
   ]
  },
  {
   "cell_type": "code",
   "execution_count": 57,
   "metadata": {
    "collapsed": false
   },
   "outputs": [
    {
     "data": {
      "text/plain": [
       "(0, 6000)"
      ]
     },
     "execution_count": 57,
     "metadata": {},
     "output_type": "execute_result"
    },
    {
     "data": {
      "image/png": "[encoded data removed]",
      "text/plain": [
       "<matplotlib.figure.Figure at 0x7f022171d6a0>"
      ]
     },
     "metadata": {},
     "output_type": "display_data"
    }
   ],
   "source": [
    "topics = df_topics.ix[:,1:].plot(x=df_topics.get(\"Topics\"), lw=3, y=None, kind='line', ax=None, subplots=False, sharex=None, sharey=False, layout=None, figsize=None, use_index=True, grid=True, legend=True, style=None, loglog=False, xticks=None, yticks=None, xlim=None, ylim=None, rot=None, fontsize=None, colormap=None, table=False, yerr=None, xerr=None, secondary_y=False, sort_columns=False)\n",
    "topics.set_title(\"Topics\", fontsize=16)\n",
    "topics.set_xlabel(\"Number of topics\", fontsize=12)\n",
    "topics.set_ylabel(\"Documents per second\", fontsize=12)\n",
    "topics.set_ylim([0,6000])"
   ]
  },
  {
   "cell_type": "code",
   "execution_count": 56,
   "metadata": {
    "collapsed": false
   },
   "outputs": [
    {
     "data": {
      "image/png": "[encoded data removed]",
      "text/plain": [
       "<matplotlib.figure.Figure at 0x7f0221545dd8>"
      ]
     },
     "metadata": {},
     "output_type": "display_data"
    }
   ],
   "source": [
    "#Plots\n",
    "plt.plot(df_topics.get(\"Topics\"), df_topics.get(\"Source\"), color='blue')\n",
    "plt.plot(df_topics.get(\"Topics\"), df_topics.get(\"Sink\"), color='green')\n",
    "plt.plot(df_topics.get(\"Topics\"), df_topics.get(\"End2End\"), color='red')\n",
    "\n",
    "#Settings\n",
    "plt.title(\"Topics\", fontsize=16)\n",
    "plt.xlabel(\"Number of topics\", fontsize=12)\n",
    "plt.ylabel(\"Documents per second\", fontsize=12)\n",
    "plt.ylim(0,6000)\n",
    "plt.legend(loc=4)\n",
    "plt.grid(True)\n",
    "\n",
    "#ScatterPlots\n",
    "plt.scatter(df_topics.get(\"Topics\"), df_topics.get(\"Source\"), color='blue')\n",
    "plt.scatter(df_topics.get(\"Topics\"), df_topics.get(\"Sink\"), color='green')\n",
    "plt.scatter(df_topics.get(\"Topics\"), df_topics.get(\"End2End\"), color='red')\n",
    "plt.show()"
   ]
  },
  {
   "cell_type": "markdown",
   "metadata": {},
   "source": [
    "# Results - Documents"
   ]
  },
  {
   "cell_type": "code",
   "execution_count": 28,
   "metadata": {
    "collapsed": false,
    "scrolled": true
   },
   "outputs": [
    {
     "data": {
      "text/html": [
       "<div>\n",
       "<table border=\"1\" class=\"dataframe\">\n",
       "  <thead>\n",
       "    <tr style=\"text-align: right;\">\n",
       "      <th></th>\n",
       "      <th>Source</th>\n",
       "      <th>Sink</th>\n",
       "      <th>End2End</th>\n",
       "    </tr>\n",
       "  </thead>\n",
       "  <tbody>\n",
       "    <tr>\n",
       "      <th>0</th>\n",
       "      <td>0</td>\n",
       "      <td>0</td>\n",
       "      <td>0</td>\n",
       "    </tr>\n",
       "    <tr>\n",
       "      <th>1</th>\n",
       "      <td>0</td>\n",
       "      <td>0</td>\n",
       "      <td>0</td>\n",
       "    </tr>\n",
       "    <tr>\n",
       "      <th>2</th>\n",
       "      <td>0</td>\n",
       "      <td>0</td>\n",
       "      <td>0</td>\n",
       "    </tr>\n",
       "    <tr>\n",
       "      <th>3</th>\n",
       "      <td>0</td>\n",
       "      <td>0</td>\n",
       "      <td>0</td>\n",
       "    </tr>\n",
       "    <tr>\n",
       "      <th>4</th>\n",
       "      <td>0</td>\n",
       "      <td>0</td>\n",
       "      <td>0</td>\n",
       "    </tr>\n",
       "    <tr>\n",
       "      <th>5</th>\n",
       "      <td>0</td>\n",
       "      <td>0</td>\n",
       "      <td>0</td>\n",
       "    </tr>\n",
       "  </tbody>\n",
       "</table>\n",
       "</div>"
      ],
      "text/plain": [
       "   Source  Sink  End2End\n",
       "0       0     0        0\n",
       "1       0     0        0\n",
       "2       0     0        0\n",
       "3       0     0        0\n",
       "4       0     0        0\n",
       "5       0     0        0"
      ]
     },
     "execution_count": 28,
     "metadata": {},
     "output_type": "execute_result"
    }
   ],
   "source": [
    "df_documents = pd.read_csv(get_object_storage_file_with_credentials_ebfa6a6ade0a434ea529a6a0727780ac('PerformanceTest', 'documents.csv'))\n",
    "df_documents.set_index(\"Documents\")\n",
    "df_documents.ix[:,1:]"
   ]
  },
  {
   "cell_type": "code",
   "execution_count": 49,
   "metadata": {
    "collapsed": false
   },
   "outputs": [
    {
     "data": {
      "image/png": "[encoded data removed]",
      "text/plain": [
       "<matplotlib.figure.Figure at 0x7f0221ba3ac8>"
      ]
     },
     "metadata": {},
     "output_type": "display_data"
    }
   ],
   "source": [
    "#Plots\n",
    "plt.plot(df_documents.get(\"Documents\"), df_documents.get(\"Source\"), color='blue')\n",
    "plt.plot(df_documents.get(\"Documents\"), df_documents.get(\"Sink\"), color='green')\n",
    "plt.plot(df_documents.get(\"Documents\"), df_documents.get(\"End2End\"), color='red')\n",
    "\n",
    "#Settings\n",
    "plt.title(\"Documents\", fontsize=16)\n",
    "plt.xlabel(\"Number of documents\", fontsize=12)\n",
    "plt.ylabel(\"Documents per second\", fontsize=12)\n",
    "plt.ylim(0,5000)\n",
    "plt.legend(loc=4)\n",
    "plt.xscale(\"log\")\n",
    "plt.xlim(0,1000000)\n",
    "plt.grid(True)\n",
    "\n",
    "#xlabel\n",
    "#xlabel = [1, 10, 100, 1000, 10000, 100000, 1000000]\n",
    "#plt.xticks(range(len(xlabel)), xlabel, rotation='horizontal')\n",
    "\n",
    "#ScatterPlots\n",
    "plt.scatter(df_documents.get(\"Documents\"), df_documents.get(\"Source\"), color='blue')\n",
    "plt.scatter(df_documents.get(\"Documents\"), df_documents.get(\"Sink\"), color='green')\n",
    "plt.scatter(df_documents.get(\"Documents\"), df_documents.get(\"End2End\"), color='red')\n",
    "plt.show()"
   ]
  },
  {
   "cell_type": "code",
   "execution_count": null,
   "metadata": {
    "collapsed": true
   },
   "outputs": [],
   "source": []
  }
 ],
 "metadata": {
  "kernelspec": {
   "display_name": "Python 3.5 (Experimental) with Spark 2.0",
   "language": "python",
   "name": "python3-spark20"
  },
  "language_info": {
   "codemirror_mode": {
    "name": "ipython",
    "version": 3
   },
   "file_extension": ".py",
   "mimetype": "text/x-python",
   "name": "python",
   "nbconvert_exporter": "python",
   "pygments_lexer": "ipython3",
   "version": "3.5.2"
  }
 },
 "nbformat": 4,
 "nbformat_minor": 0
}